{
 "cells": [
  {
   "cell_type": "code",
   "execution_count": 12,
   "metadata": {},
   "outputs": [
    {
     "name": "stdout",
     "output_type": "stream",
     "text": [
      "\n",
      " \n",
      " [[ 0.46551125  0.20831427  0.58461456  0.63097564]\n",
      " [ 0.50069297 -0.4712601  -0.62664449  0.36679306]\n",
      " [ 0.69138763 -0.08710118  0.21797864 -0.68328752]\n",
      " [-0.23364283 -0.85260335  0.46693448  0.02123079]] \n",
      " \n",
      "\n",
      "\n",
      " \n",
      " [3.26454421 0.25707152 0.0657663  0.0034163 ] \n",
      " \n",
      "\n",
      "\n",
      " \n",
      " [3.26454421 0.25707152 0.0657663  0.0034163 ] \n",
      " \n",
      "\n",
      "\n",
      " \n",
      " [[-0.46551125 -0.20831427 -0.58461456 -0.63097564]\n",
      " [ 0.50069297 -0.4712601  -0.62664449  0.36679306]\n",
      " [-0.69138763  0.08710118 -0.21797864  0.68328752]\n",
      " [-0.23364283 -0.85260335  0.46693448  0.02123079]] \n",
      " \n",
      "\n"
     ]
    },
    {
     "data": {
      "image/png": "[encoded data removed]",
      "text/plain": [
       "<Figure size 432x288 with 1 Axes>"
      ]
     },
     "metadata": {
      "needs_background": "light"
     },
     "output_type": "display_data"
    }
   ],
   "source": [
    "import numpy as np\n",
    "import matplotlib.pyplot as plt\n",
    "import pandas as pd\n",
    "from numpy import array\n",
    "from numpy import mean\n",
    "from numpy import cov\n",
    "from numpy.linalg import eig\n",
    "\n",
    "\n",
    "def cov_mat(X):\n",
    "    \n",
    "    n = X.shape[0]\n",
    "\n",
    "    cov_matrix  = (1/(n-1))*(X-X.mean(axis=0)).T.dot(X - X.mean(axis=0))\n",
    "\n",
    "    cov_matrix = np.array(cov_matrix)\n",
    "\n",
    "    return cov_matrix\n",
    "\n",
    "\n",
    "class myPCA():\n",
    "\n",
    "    def __init__(self,n_component ):\n",
    "        self.n_component = n_component\n",
    "\n",
    "    def fit(self,X):\n",
    "        \n",
    "        \n",
    "        cov_matrix = cov_mat(X)\n",
    "\n",
    "        self.eigen_val, self.eigen_vec = np.linalg.eig(cov_matrix)\n",
    "\n",
    "        self.idx = self.eigen_val.argsort()[::-1]\n",
    "        self.eigen_val = self.eigen_val[self.idx][:self.n_component]\n",
    "        \n",
    "        self.eigen_vec = (self.eigen_vec[:,self.idx])[:, :self.n_component].T\n",
    "\n",
    "    \n",
    "    def transform(self,X):\n",
    "        return X.dot(self.eigen_vec)\n",
    "\n",
    "\n",
    "\n",
    "#sample data set to run and implement MyPCA\n",
    "rng = np.random.RandomState(1)\n",
    "X = np.dot(rng.rand(4, 4), rng.randn(4, 200)).T\n",
    "plt.scatter(X[:, 0], X[:, 1])\n",
    "plt.axis('equal');\n",
    "\n",
    "pca = myPCA(n_component=4)\n",
    "pca.fit(X)\n",
    "      \n",
    "print(\"\\n\",\"\\n\",pca.eigen_vec,\"\\n\",\"\\n\")\n",
    "\n",
    "print(\"\\n\",\"\\n\",pca.eigen_val,\"\\n\",\"\\n\")\n",
    "\n",
    "bv=pca.transform(X)\n",
    "\n",
    "\n",
    "#Actual Pca to compare and check results\n",
    "from sklearn.decomposition import PCA\n",
    "pca = PCA(n_components=4)\n",
    "pca.fit(X)\n",
    "\n",
    "print(\"\\n\",\"\\n\",pca.explained_variance_,\"\\n\",\"\\n\")\n",
    "print(\"\\n\",\"\\n\",pca.components_,\"\\n\",\"\\n\",)\n",
    "zxc=pca.transform(X)\n",
    "\n"
   ]
  },
  {
   "cell_type": "code",
   "execution_count": null,
   "metadata": {},
   "outputs": [],
   "source": []
  },
  {
   "cell_type": "code",
   "execution_count": null,
   "metadata": {},
   "outputs": [],
   "source": []
  }
 ],
 "metadata": {
  "kernelspec": {
   "display_name": "Python 3",
   "language": "python",
   "name": "python3"
  },
  "language_info": {
   "codemirror_mode": {
    "name": "ipython",
    "version": 3
   },
   "file_extension": ".py",
   "mimetype": "text/x-python",
   "name": "python",
   "nbconvert_exporter": "python",
   "pygments_lexer": "ipython3",
   "version": "3.7.4"
  }
 },
 "nbformat": 4,
 "nbformat_minor": 2
}
